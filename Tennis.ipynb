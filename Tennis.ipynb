{
 "cells": [
  {
   "cell_type": "markdown",
   "metadata": {},
   "source": [
    "# Collaboration and Competition\n",
    "\n",
    "---\n",
    "\n",
    "In this notebook, you will learn how to use the Unity ML-Agents environment for the third project of the [Deep Reinforcement Learning Nanodegree](https://www.udacity.com/course/deep-reinforcement-learning-nanodegree--nd893) program.\n",
    "\n",
    "### 1. Start the Environment\n",
    "\n",
    "We begin by importing the necessary packages.  If the code cell below returns an error, please revisit the project instructions to double-check that you have installed [Unity ML-Agents](https://github.com/Unity-Technologies/ml-agents/blob/master/docs/Installation.md) and [NumPy](http://www.numpy.org/)."
   ]
  },
  {
   "cell_type": "code",
   "execution_count": 1,
   "metadata": {},
   "outputs": [],
   "source": [
    "from unityagents import UnityEnvironment\n",
    "from ma_ddpg import MADDPGAgent, BATCH_SIZE\n",
    "from itertools import count\n",
    "import numpy as np\n",
    "import matplotlib.pyplot as plt\n",
    "\n",
    "%matplotlib inline"
   ]
  },
  {
   "cell_type": "markdown",
   "metadata": {},
   "source": [
    "Next, we will start the environment!  **_Before running the code cell below_**, change the `file_name` parameter to match the location of the Unity environment that you downloaded.\n",
    "\n",
    "- **Mac**: `\"path/to/Tennis.app\"`\n",
    "- **Windows** (x86): `\"path/to/Tennis_Windows_x86/Tennis.exe\"`\n",
    "- **Windows** (x86_64): `\"path/to/Tennis_Windows_x86_64/Tennis.exe\"`\n",
    "- **Linux** (x86): `\"path/to/Tennis_Linux/Tennis.x86\"`\n",
    "- **Linux** (x86_64): `\"path/to/Tennis_Linux/Tennis.x86_64\"`\n",
    "- **Linux** (x86, headless): `\"path/to/Tennis_Linux_NoVis/Tennis.x86\"`\n",
    "- **Linux** (x86_64, headless): `\"path/to/Tennis_Linux_NoVis/Tennis.x86_64\"`\n",
    "\n",
    "For instance, if you are using a Mac, then you downloaded `Tennis.app`.  If this file is in the same folder as the notebook, then the line below should appear as follows:\n",
    "```\n",
    "env = UnityEnvironment(file_name=\"Tennis.app\")\n",
    "```"
   ]
  },
  {
   "cell_type": "code",
   "execution_count": 2,
   "metadata": {},
   "outputs": [
    {
     "name": "stderr",
     "output_type": "stream",
     "text": [
      "INFO:unityagents:\n",
      "'Academy' started successfully!\n",
      "Unity Academy name: Academy\n",
      "        Number of Brains: 1\n",
      "        Number of External Brains : 1\n",
      "        Lesson number : 0\n",
      "        Reset Parameters :\n",
      "\t\t\n",
      "Unity brain name: TennisBrain\n",
      "        Number of Visual Observations (per agent): 0\n",
      "        Vector Observation space type: continuous\n",
      "        Vector Observation space size (per agent): 8\n",
      "        Number of stacked Vector Observation: 3\n",
      "        Vector Action space type: continuous\n",
      "        Vector Action space size (per agent): 2\n",
      "        Vector Action descriptions: , \n"
     ]
    }
   ],
   "source": [
    "env = UnityEnvironment(file_name=\"./Tennis.app\")"
   ]
  },
  {
   "cell_type": "markdown",
   "metadata": {},
   "source": [
    "Environments contain **_brains_** which are responsible for deciding the actions of their associated agents. Here we check for the first brain available, and set it as the default brain we will be controlling from Python."
   ]
  },
  {
   "cell_type": "code",
   "execution_count": 3,
   "metadata": {},
   "outputs": [],
   "source": [
    "# get the default brain\n",
    "brain_name = env.brain_names[0]\n",
    "brain = env.brains[brain_name]"
   ]
  },
  {
   "cell_type": "markdown",
   "metadata": {},
   "source": [
    "### 2. Examine the State and Action Spaces\n",
    "\n",
    "In this environment, two agents control rackets to bounce a ball over a net. If an agent hits the ball over the net, it receives a reward of +0.1.  If an agent lets a ball hit the ground or hits the ball out of bounds, it receives a reward of -0.01.  Thus, the goal of each agent is to keep the ball in play.\n",
    "\n",
    "The observation space consists of 8 variables corresponding to the position and velocity of the ball and racket. Two continuous actions are available, corresponding to movement toward (or away from) the net, and jumping. \n",
    "\n",
    "Run the code cell below to print some information about the environment."
   ]
  },
  {
   "cell_type": "code",
   "execution_count": 4,
   "metadata": {},
   "outputs": [
    {
     "name": "stdout",
     "output_type": "stream",
     "text": [
      "Number of agents: 2\n",
      "Size of each action: 2\n",
      "There are 2 agents. Each observes a state with length: 24\n",
      "The state for the first agent looks like: [ 0.          0.          0.          0.          0.          0.\n",
      "  0.          0.          0.          0.          0.          0.\n",
      "  0.          0.          0.          0.         -6.65278625 -1.5\n",
      " -0.          0.          6.83172083  6.         -0.          0.        ]\n"
     ]
    }
   ],
   "source": [
    "# reset the environment\n",
    "env_info = env.reset(train_mode=True)[brain_name]\n",
    "\n",
    "# number of agents \n",
    "num_agents = len(env_info.agents)\n",
    "print('Number of agents:', num_agents)\n",
    "\n",
    "# size of each action\n",
    "action_size = brain.vector_action_space_size\n",
    "print('Size of each action:', action_size)\n",
    "\n",
    "# examine the state space \n",
    "states = env_info.vector_observations\n",
    "state_size = states.shape[1]\n",
    "print('There are {} agents. Each observes a state with length: {}'.format(states.shape[0], state_size))\n",
    "print('The state for the first agent looks like:', states[0])"
   ]
  },
  {
   "cell_type": "markdown",
   "metadata": {},
   "source": [
    "### 3. Take Random Actions in the Environment\n",
    "\n",
    "In the next code cell, you will learn how to use the Python API to control the agents and receive feedback from the environment.\n",
    "\n",
    "Once this cell is executed, you will watch the agents' performance, if they select actions at random with each time step.  A window should pop up that allows you to observe the agents.\n",
    "\n",
    "Of course, as part of the project, you'll have to change the code so that the agents are able to use their experiences to gradually choose better actions when interacting with the environment!"
   ]
  },
  {
   "cell_type": "code",
   "execution_count": 5,
   "metadata": {},
   "outputs": [
    {
     "name": "stdout",
     "output_type": "stream",
     "text": [
      "Score (max over agents) from episode 1: 0.0\n"
     ]
    }
   ],
   "source": [
    "for i in range(1, 2):                                      # play game for 5 episodes\n",
    "    env_info = env.reset(train_mode=False)[brain_name]     # reset the environment    \n",
    "    states = env_info.vector_observations                  # get the current state (for each agent)\n",
    "    scores = np.zeros(num_agents)                          # initialize the score (for each agent)\n",
    "    while True:\n",
    "        actions = np.random.randn(num_agents, action_size) # select an action (for each agent)\n",
    "        actions = np.clip(actions, -1, 1)                  # all actions between -1 and 1\n",
    "        env_info = env.step(actions)[brain_name]           # send all actions to tne environment\n",
    "        next_states = env_info.vector_observations         # get next state (for each agent)\n",
    "        rewards = env_info.rewards                         # get reward (for each agent)\n",
    "        dones = env_info.local_done                        # see if episode finished\n",
    "        scores += env_info.rewards                         # update the score (for each agent)\n",
    "        states = next_states                               # roll over states to next time step\n",
    "        if np.any(dones):                                  # exit loop if episode finished\n",
    "            break\n",
    "    print('Score (max over agents) from episode {}: {}'.format(i, np.max(scores)))"
   ]
  },
  {
   "cell_type": "markdown",
   "metadata": {},
   "source": [
    "### 4. It's Your Turn!\n",
    "\n",
    "Now it's your turn to train your own agent to solve the environment!  When training the environment, set `train_mode=True`, so that the line for resetting the environment looks like the following:\n",
    "```python\n",
    "env_info = env.reset(train_mode=True)[brain_name]\n",
    "```"
   ]
  },
  {
   "cell_type": "code",
   "execution_count": 6,
   "metadata": {},
   "outputs": [
    {
     "name": "stdout",
     "output_type": "stream",
     "text": [
      "Episode: 250, average score: 0.0009\n",
      "Episode: 500, average score: 0.0059\n",
      "Episode: 750, average score: 0.0048\n",
      "Episode: 1000, average score: 0.0057\n",
      "Episode: 1250, average score: 0.0073\n",
      "Episode: 1500, average score: 0.0114\n",
      "Episode: 1750, average score: 0.0027\n",
      "Episode: 2000, average score: 0.0000\n",
      "Episode: 2250, average score: 0.0020\n",
      "Episode: 2500, average score: 0.0000\n",
      "Episode: 2750, average score: 0.0087\n",
      "Episode: 3000, average score: 0.0000\n",
      "Episode: 3250, average score: 0.0000\n",
      "Episode: 3500, average score: 0.0078\n",
      "Episode: 3750, average score: 0.0028\n",
      "Episode: 4000, average score: 0.0000\n",
      "Episode: 4250, average score: 0.0000\n",
      "Episode: 4500, average score: 0.0010\n",
      "Episode: 4750, average score: 0.0000\n",
      "Episode: 5000, average score: 0.0000\n"
     ]
    }
   ],
   "source": [
    "episode = 5000\n",
    "# keep track of progress\n",
    "mean_rewards = []\n",
    "best_reward = -np.inf\n",
    "best_ave_reward = -np.inf\n",
    "last_reset = 0\n",
    "\n",
    "window = 30\n",
    "window2 = 10\n",
    "\n",
    "agent = MADDPGAgent(num_agents, state_size, action_size)\n",
    "time_steps = []\n",
    "k = 0\n",
    "# import pdb; pdb.set_trace()\n",
    "for e in range(episode):\n",
    "    agent.reset()\n",
    "    env_info = env.reset(train_mode=True)[brain_name]\n",
    "    sum_rewards = 0\n",
    "    for t in count():\n",
    "        states = env_info.vector_observations         # get next state (for each agent)\n",
    "        actions = agent.act(states)\n",
    "        env_info = env.step(actions)[brain_name]           # send all actions to tne environment\n",
    "        next_states = env_info.vector_observations         # get next state (for each agent)\n",
    "        rewards = np.array(env_info.rewards)               # get reward (for each agent)\n",
    "        dones = np.array(env_info.local_done).astype(float)# see if episode finished\n",
    "        \n",
    "#         if sum(rewards) > 0:\n",
    "#             import pdb; pdb.set_trace()\n",
    "        agent.step(states, actions, rewards[:,None], next_states, dones[:,None])\n",
    "        sum_rewards += rewards\n",
    "        \n",
    "        if len(agent.memory) > BATCH_SIZE and (k+1) % 3 == 0:\n",
    "            agent.learn()\n",
    "        k += 1\n",
    "\n",
    "        if np.any(dones):\n",
    "            time_steps.append(t)\n",
    "            break\n",
    "    # get the average reward of the parallel environments\n",
    "    mean_rewards.append(np.max(sum_rewards))\n",
    "    # display some progress every 20 iterations\n",
    "    print(\"\\rEpisode: {0:d}, average score: {1:.4f}\"\\\n",
    "          .format(e+1,np.mean(mean_rewards[-100:])), \n",
    "          end=\"\")\n",
    "    if (e+1) % (episode // 20) ==0:\n",
    "        print(\"\\rEpisode: {0:d}, average score: {1:.4f}\".format(e+1,np.mean(mean_rewards[-100:])))\n",
    "    if np.mean(mean_rewards[-100:]) >= 0.5:\n",
    "        print('Solved at {} iterations with a mean of {:.4f}'.format(e+1,np.mean(mean_rewards[-100:])))\n",
    "        break\n",
    "        \n",
    "    \n",
    "#     if mean_rewards[-1] > best_reward:\n",
    "#         agent.save_network()\n",
    "#         best_reward = mean_rewards[-1]\n",
    "#         print(f'\\tbest reward {best_reward:.2f}', end=\"\")  \n",
    "\n",
    "#     if np.mean(mean_rewards[-window:]) > best_ave_reward:\n",
    "#         best_ave_reward = np.mean(mean_rewards[-window:])\n",
    "#     elif np.mean(mean_rewards[-window:]) < 0.8 * best_ave_reward and best_ave_reward > 0.5 and e > last_reset + window2:\n",
    "#         agent.load_network()\n",
    "#         print(f'\\nNetworks Reset at episode {e+1:d}!')\n",
    "#         last_reset = e"
   ]
  },
  {
   "cell_type": "code",
   "execution_count": 7,
   "metadata": {},
   "outputs": [
    {
     "data": {
      "image/png": "[encoded data removed]",
      "text/plain": [
       "<matplotlib.figure.Figure at 0x1185cd358>"
      ]
     },
     "metadata": {},
     "output_type": "display_data"
    },
    {
     "data": {
      "image/png": "[encoded data removed]",
      "text/plain": [
       "<matplotlib.figure.Figure at 0x11e510dd8>"
      ]
     },
     "metadata": {},
     "output_type": "display_data"
    }
   ],
   "source": [
    "plt.plot(mean_rewards)\n",
    "window = 50\n",
    "plt.plot(list(range(window,len(mean_rewards))), \n",
    "         [np.mean(mean_rewards[i:i+window]) for i in range(len(mean_rewards)-window)],\n",
    "         label='Moving Average'\n",
    "        )\n",
    "plt.xlabel('Episodes')\n",
    "plt.ylabel('Total Rewards')\n",
    "plt.legend()\n",
    "plt.savefig('mean_rewards')\n",
    "plt.show()\n",
    "\n",
    "plt.plot(time_steps)\n",
    "window = 50\n",
    "plt.plot(list(range(window,len(mean_rewards))), \n",
    "         [np.mean(time_steps[i:i+window]) for i in range(len(time_steps)-window)],\n",
    "         label='Moving Average'\n",
    "        )\n",
    "plt.xlabel('Episodes')\n",
    "plt.ylabel('Episode Length')\n",
    "plt.legend()\n",
    "plt.show()"
   ]
  },
  {
   "cell_type": "code",
   "execution_count": 8,
   "metadata": {},
   "outputs": [],
   "source": [
    "env.close()"
   ]
  },
  {
   "cell_type": "code",
   "execution_count": 9,
   "metadata": {},
   "outputs": [
    {
     "data": {
      "text/plain": [
       "(2, 1)"
      ]
     },
     "execution_count": 9,
     "metadata": {},
     "output_type": "execute_result"
    }
   ],
   "source": [
    "dones[:,None].shape"
   ]
  },
  {
   "cell_type": "code",
   "execution_count": null,
   "metadata": {},
   "outputs": [],
   "source": []
  }
 ],
 "metadata": {
  "kernelspec": {
   "display_name": "Python 3",
   "language": "python",
   "name": "python3"
  },
  "language_info": {
   "codemirror_mode": {
    "name": "ipython",
    "version": 3
   },
   "file_extension": ".py",
   "mimetype": "text/x-python",
   "name": "python",
   "nbconvert_exporter": "python",
   "pygments_lexer": "ipython3",
   "version": "3.6.6"
  }
 },
 "nbformat": 4,
 "nbformat_minor": 2
}
